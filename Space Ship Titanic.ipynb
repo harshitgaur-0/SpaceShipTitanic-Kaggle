{
 "cells": [
  {
   "cell_type": "code",
   "execution_count": 1,
   "id": "2b93088f",
   "metadata": {},
   "outputs": [],
   "source": [
    "import pandas as pd\n",
    "import seaborn as sns\n",
    "import numpy as np\n",
    "import matplotlib.pyplot as plt\n",
    "import scipy.stats as stats\n",
    "%matplotlib inline"
   ]
  },
  {
   "cell_type": "code",
   "execution_count": 2,
   "id": "d45e9f7b",
   "metadata": {},
   "outputs": [
    {
     "name": "stdout",
     "output_type": "stream",
     "text": [
      "(8693, 14) (4277, 13)\n"
     ]
    }
   ],
   "source": [
    "df_train = pd.read_csv(\"train.csv\")\n",
    "df_test = pd.read_csv(\"test.csv\")\n",
    "print(df_train.shape,df_test.shape)"
   ]
  },
  {
   "cell_type": "code",
   "execution_count": 3,
   "id": "8a3199a8",
   "metadata": {},
   "outputs": [],
   "source": [
    "#concatting train and test dataset\n",
    "df_concat=pd.concat([df_train,df_test],axis=0)"
   ]
  },
  {
   "cell_type": "code",
   "execution_count": 4,
   "id": "dea70acf",
   "metadata": {},
   "outputs": [
    {
     "data": {
      "text/html": [
       "<div>\n",
       "<style scoped>\n",
       "    .dataframe tbody tr th:only-of-type {\n",
       "        vertical-align: middle;\n",
       "    }\n",
       "\n",
       "    .dataframe tbody tr th {\n",
       "        vertical-align: top;\n",
       "    }\n",
       "\n",
       "    .dataframe thead th {\n",
       "        text-align: right;\n",
       "    }\n",
       "</style>\n",
       "<table border=\"1\" class=\"dataframe\">\n",
       "  <thead>\n",
       "    <tr style=\"text-align: right;\">\n",
       "      <th></th>\n",
       "      <th>PassengerId</th>\n",
       "      <th>HomePlanet</th>\n",
       "      <th>CryoSleep</th>\n",
       "      <th>Cabin</th>\n",
       "      <th>Destination</th>\n",
       "      <th>Age</th>\n",
       "      <th>VIP</th>\n",
       "      <th>RoomService</th>\n",
       "      <th>FoodCourt</th>\n",
       "      <th>ShoppingMall</th>\n",
       "      <th>Spa</th>\n",
       "      <th>VRDeck</th>\n",
       "      <th>Name</th>\n",
       "      <th>Transported</th>\n",
       "    </tr>\n",
       "  </thead>\n",
       "  <tbody>\n",
       "    <tr>\n",
       "      <th>0</th>\n",
       "      <td>0001_01</td>\n",
       "      <td>Europa</td>\n",
       "      <td>False</td>\n",
       "      <td>B/0/P</td>\n",
       "      <td>TRAPPIST-1e</td>\n",
       "      <td>39.0</td>\n",
       "      <td>False</td>\n",
       "      <td>0.0</td>\n",
       "      <td>0.0</td>\n",
       "      <td>0.0</td>\n",
       "      <td>0.0</td>\n",
       "      <td>0.0</td>\n",
       "      <td>Maham Ofracculy</td>\n",
       "      <td>False</td>\n",
       "    </tr>\n",
       "    <tr>\n",
       "      <th>1</th>\n",
       "      <td>0002_01</td>\n",
       "      <td>Earth</td>\n",
       "      <td>False</td>\n",
       "      <td>F/0/S</td>\n",
       "      <td>TRAPPIST-1e</td>\n",
       "      <td>24.0</td>\n",
       "      <td>False</td>\n",
       "      <td>109.0</td>\n",
       "      <td>9.0</td>\n",
       "      <td>25.0</td>\n",
       "      <td>549.0</td>\n",
       "      <td>44.0</td>\n",
       "      <td>Juanna Vines</td>\n",
       "      <td>True</td>\n",
       "    </tr>\n",
       "    <tr>\n",
       "      <th>2</th>\n",
       "      <td>0003_01</td>\n",
       "      <td>Europa</td>\n",
       "      <td>False</td>\n",
       "      <td>A/0/S</td>\n",
       "      <td>TRAPPIST-1e</td>\n",
       "      <td>58.0</td>\n",
       "      <td>True</td>\n",
       "      <td>43.0</td>\n",
       "      <td>3576.0</td>\n",
       "      <td>0.0</td>\n",
       "      <td>6715.0</td>\n",
       "      <td>49.0</td>\n",
       "      <td>Altark Susent</td>\n",
       "      <td>False</td>\n",
       "    </tr>\n",
       "    <tr>\n",
       "      <th>3</th>\n",
       "      <td>0003_02</td>\n",
       "      <td>Europa</td>\n",
       "      <td>False</td>\n",
       "      <td>A/0/S</td>\n",
       "      <td>TRAPPIST-1e</td>\n",
       "      <td>33.0</td>\n",
       "      <td>False</td>\n",
       "      <td>0.0</td>\n",
       "      <td>1283.0</td>\n",
       "      <td>371.0</td>\n",
       "      <td>3329.0</td>\n",
       "      <td>193.0</td>\n",
       "      <td>Solam Susent</td>\n",
       "      <td>False</td>\n",
       "    </tr>\n",
       "    <tr>\n",
       "      <th>4</th>\n",
       "      <td>0004_01</td>\n",
       "      <td>Earth</td>\n",
       "      <td>False</td>\n",
       "      <td>F/1/S</td>\n",
       "      <td>TRAPPIST-1e</td>\n",
       "      <td>16.0</td>\n",
       "      <td>False</td>\n",
       "      <td>303.0</td>\n",
       "      <td>70.0</td>\n",
       "      <td>151.0</td>\n",
       "      <td>565.0</td>\n",
       "      <td>2.0</td>\n",
       "      <td>Willy Santantines</td>\n",
       "      <td>True</td>\n",
       "    </tr>\n",
       "  </tbody>\n",
       "</table>\n",
       "</div>"
      ],
      "text/plain": [
       "  PassengerId HomePlanet CryoSleep  Cabin  Destination   Age    VIP  \\\n",
       "0     0001_01     Europa     False  B/0/P  TRAPPIST-1e  39.0  False   \n",
       "1     0002_01      Earth     False  F/0/S  TRAPPIST-1e  24.0  False   \n",
       "2     0003_01     Europa     False  A/0/S  TRAPPIST-1e  58.0   True   \n",
       "3     0003_02     Europa     False  A/0/S  TRAPPIST-1e  33.0  False   \n",
       "4     0004_01      Earth     False  F/1/S  TRAPPIST-1e  16.0  False   \n",
       "\n",
       "   RoomService  FoodCourt  ShoppingMall     Spa  VRDeck               Name  \\\n",
       "0          0.0        0.0           0.0     0.0     0.0    Maham Ofracculy   \n",
       "1        109.0        9.0          25.0   549.0    44.0       Juanna Vines   \n",
       "2         43.0     3576.0           0.0  6715.0    49.0      Altark Susent   \n",
       "3          0.0     1283.0         371.0  3329.0   193.0       Solam Susent   \n",
       "4        303.0       70.0         151.0   565.0     2.0  Willy Santantines   \n",
       "\n",
       "  Transported  \n",
       "0       False  \n",
       "1        True  \n",
       "2       False  \n",
       "3       False  \n",
       "4        True  "
      ]
     },
     "execution_count": 4,
     "metadata": {},
     "output_type": "execute_result"
    }
   ],
   "source": [
    "df_concat.head()"
   ]
  },
  {
   "cell_type": "code",
   "execution_count": 83,
   "id": "08a8e5f2",
   "metadata": {},
   "outputs": [
    {
     "data": {
      "text/plain": [
       "1818"
      ]
     },
     "execution_count": 83,
     "metadata": {},
     "output_type": "execute_result"
    }
   ],
   "source": [
    "len(df_train[\"Cabin\"].str.split(\"/\").str[1].unique())"
   ]
  },
  {
   "cell_type": "markdown",
   "id": "dae7d9ce",
   "metadata": {},
   "source": [
    "# EDA"
   ]
  },
  {
   "cell_type": "markdown",
   "id": "4f3b7530",
   "metadata": {},
   "source": [
    "### Univariate analysis"
   ]
  },
  {
   "cell_type": "code",
   "execution_count": 5,
   "id": "f36d6a1f",
   "metadata": {},
   "outputs": [
    {
     "data": {
      "text/html": [
       "<div>\n",
       "<style scoped>\n",
       "    .dataframe tbody tr th:only-of-type {\n",
       "        vertical-align: middle;\n",
       "    }\n",
       "\n",
       "    .dataframe tbody tr th {\n",
       "        vertical-align: top;\n",
       "    }\n",
       "\n",
       "    .dataframe thead th {\n",
       "        text-align: right;\n",
       "    }\n",
       "</style>\n",
       "<table border=\"1\" class=\"dataframe\">\n",
       "  <thead>\n",
       "    <tr style=\"text-align: right;\">\n",
       "      <th></th>\n",
       "      <th>Age</th>\n",
       "      <th>RoomService</th>\n",
       "      <th>FoodCourt</th>\n",
       "      <th>ShoppingMall</th>\n",
       "      <th>Spa</th>\n",
       "      <th>VRDeck</th>\n",
       "    </tr>\n",
       "  </thead>\n",
       "  <tbody>\n",
       "    <tr>\n",
       "      <th>count</th>\n",
       "      <td>12700.000000</td>\n",
       "      <td>12707.000000</td>\n",
       "      <td>12681.000000</td>\n",
       "      <td>12664.000000</td>\n",
       "      <td>12686.000000</td>\n",
       "      <td>12702.000000</td>\n",
       "    </tr>\n",
       "    <tr>\n",
       "      <th>mean</th>\n",
       "      <td>28.771969</td>\n",
       "      <td>222.897852</td>\n",
       "      <td>451.961675</td>\n",
       "      <td>174.906033</td>\n",
       "      <td>308.476904</td>\n",
       "      <td>306.789482</td>\n",
       "    </tr>\n",
       "    <tr>\n",
       "      <th>std</th>\n",
       "      <td>14.387261</td>\n",
       "      <td>647.596664</td>\n",
       "      <td>1584.370747</td>\n",
       "      <td>590.558690</td>\n",
       "      <td>1130.279641</td>\n",
       "      <td>1180.097223</td>\n",
       "    </tr>\n",
       "    <tr>\n",
       "      <th>min</th>\n",
       "      <td>0.000000</td>\n",
       "      <td>0.000000</td>\n",
       "      <td>0.000000</td>\n",
       "      <td>0.000000</td>\n",
       "      <td>0.000000</td>\n",
       "      <td>0.000000</td>\n",
       "    </tr>\n",
       "    <tr>\n",
       "      <th>25%</th>\n",
       "      <td>19.000000</td>\n",
       "      <td>0.000000</td>\n",
       "      <td>0.000000</td>\n",
       "      <td>0.000000</td>\n",
       "      <td>0.000000</td>\n",
       "      <td>0.000000</td>\n",
       "    </tr>\n",
       "    <tr>\n",
       "      <th>50%</th>\n",
       "      <td>27.000000</td>\n",
       "      <td>0.000000</td>\n",
       "      <td>0.000000</td>\n",
       "      <td>0.000000</td>\n",
       "      <td>0.000000</td>\n",
       "      <td>0.000000</td>\n",
       "    </tr>\n",
       "    <tr>\n",
       "      <th>75%</th>\n",
       "      <td>38.000000</td>\n",
       "      <td>49.000000</td>\n",
       "      <td>77.000000</td>\n",
       "      <td>29.000000</td>\n",
       "      <td>57.000000</td>\n",
       "      <td>42.000000</td>\n",
       "    </tr>\n",
       "    <tr>\n",
       "      <th>max</th>\n",
       "      <td>79.000000</td>\n",
       "      <td>14327.000000</td>\n",
       "      <td>29813.000000</td>\n",
       "      <td>23492.000000</td>\n",
       "      <td>22408.000000</td>\n",
       "      <td>24133.000000</td>\n",
       "    </tr>\n",
       "  </tbody>\n",
       "</table>\n",
       "</div>"
      ],
      "text/plain": [
       "                Age   RoomService     FoodCourt  ShoppingMall           Spa  \\\n",
       "count  12700.000000  12707.000000  12681.000000  12664.000000  12686.000000   \n",
       "mean      28.771969    222.897852    451.961675    174.906033    308.476904   \n",
       "std       14.387261    647.596664   1584.370747    590.558690   1130.279641   \n",
       "min        0.000000      0.000000      0.000000      0.000000      0.000000   \n",
       "25%       19.000000      0.000000      0.000000      0.000000      0.000000   \n",
       "50%       27.000000      0.000000      0.000000      0.000000      0.000000   \n",
       "75%       38.000000     49.000000     77.000000     29.000000     57.000000   \n",
       "max       79.000000  14327.000000  29813.000000  23492.000000  22408.000000   \n",
       "\n",
       "             VRDeck  \n",
       "count  12702.000000  \n",
       "mean     306.789482  \n",
       "std     1180.097223  \n",
       "min        0.000000  \n",
       "25%        0.000000  \n",
       "50%        0.000000  \n",
       "75%       42.000000  \n",
       "max    24133.000000  "
      ]
     },
     "execution_count": 5,
     "metadata": {},
     "output_type": "execute_result"
    }
   ],
   "source": [
    "df_concat.describe()"
   ]
  },
  {
   "cell_type": "markdown",
   "id": "281b4961",
   "metadata": {},
   "source": [
    "mean>median so data should be right skewed"
   ]
  },
  {
   "cell_type": "code",
   "execution_count": 6,
   "id": "22aedb52",
   "metadata": {},
   "outputs": [],
   "source": [
    "num_col = df_concat.select_dtypes(include=np.number).columns\n"
   ]
  },
  {
   "cell_type": "code",
   "execution_count": 7,
   "id": "3cbec7ce",
   "metadata": {},
   "outputs": [
    {
     "name": "stderr",
     "output_type": "stream",
     "text": [
      "C:\\Users\\harsh\\Anaconda3\\lib\\site-packages\\seaborn\\distributions.py:2619: FutureWarning: `distplot` is a deprecated function and will be removed in a future version. Please adapt your code to use either `displot` (a figure-level function with similar flexibility) or `histplot` (an axes-level function for histograms).\n",
      "  warnings.warn(msg, FutureWarning)\n",
      "C:\\Users\\harsh\\Anaconda3\\lib\\site-packages\\seaborn\\distributions.py:2619: FutureWarning: `distplot` is a deprecated function and will be removed in a future version. Please adapt your code to use either `displot` (a figure-level function with similar flexibility) or `histplot` (an axes-level function for histograms).\n",
      "  warnings.warn(msg, FutureWarning)\n",
      "C:\\Users\\harsh\\Anaconda3\\lib\\site-packages\\seaborn\\distributions.py:2619: FutureWarning: `distplot` is a deprecated function and will be removed in a future version. Please adapt your code to use either `displot` (a figure-level function with similar flexibility) or `histplot` (an axes-level function for histograms).\n",
      "  warnings.warn(msg, FutureWarning)\n",
      "C:\\Users\\harsh\\Anaconda3\\lib\\site-packages\\seaborn\\distributions.py:2619: FutureWarning: `distplot` is a deprecated function and will be removed in a future version. Please adapt your code to use either `displot` (a figure-level function with similar flexibility) or `histplot` (an axes-level function for histograms).\n",
      "  warnings.warn(msg, FutureWarning)\n",
      "C:\\Users\\harsh\\Anaconda3\\lib\\site-packages\\seaborn\\distributions.py:2619: FutureWarning: `distplot` is a deprecated function and will be removed in a future version. Please adapt your code to use either `displot` (a figure-level function with similar flexibility) or `histplot` (an axes-level function for histograms).\n",
      "  warnings.warn(msg, FutureWarning)\n",
      "C:\\Users\\harsh\\Anaconda3\\lib\\site-packages\\seaborn\\distributions.py:2619: FutureWarning: `distplot` is a deprecated function and will be removed in a future version. Please adapt your code to use either `displot` (a figure-level function with similar flexibility) or `histplot` (an axes-level function for histograms).\n",
      "  warnings.warn(msg, FutureWarning)\n"
     ]
    },
    {
     "data": {
      "image/png": "[encoded data removed]",
      "text/plain": [
       "<Figure size 576x576 with 6 Axes>"
      ]
     },
     "metadata": {
      "needs_background": "light"
     },
     "output_type": "display_data"
    }
   ],
   "source": [
    "c=1\n",
    "plt.figure(figsize=(8,8))\n",
    "for x in num_col:\n",
    "    plt.subplot(3,2,c)\n",
    "    sns.distplot(df_concat[x])\n",
    "    c=c+1\n",
    "plt.tight_layout()"
   ]
  },
  {
   "cell_type": "markdown",
   "id": "cc02f622",
   "metadata": {},
   "source": [
    "As we can clearly see all feature except age are highly right skewed\n",
    "Now applying statistical analysis on age to see its distributionality"
   ]
  },
  {
   "cell_type": "code",
   "execution_count": 8,
   "id": "0975215d",
   "metadata": {},
   "outputs": [
    {
     "name": "stdout",
     "output_type": "stream",
     "text": [
      "0.44014976634276876\n",
      "ShapiroResult(statistic=nan, pvalue=1.0)\n"
     ]
    },
    {
     "name": "stderr",
     "output_type": "stream",
     "text": [
      "C:\\Users\\harsh\\Anaconda3\\lib\\site-packages\\scipy\\stats\\_morestats.py:1761: UserWarning: p-value may not be accurate for N > 5000.\n",
      "  warnings.warn(\"p-value may not be accurate for N > 5000.\")\n"
     ]
    }
   ],
   "source": [
    "print(df_concat.Age.skew())\n",
    "print(stats.shapiro(df_concat[\"Age\"]))"
   ]
  },
  {
   "cell_type": "markdown",
   "id": "6869fca5",
   "metadata": {},
   "source": [
    "as skewness is between 0-0.5 and pvalue of shapiro result is 1 we can say our age is normally distributed"
   ]
  },
  {
   "cell_type": "code",
   "execution_count": 9,
   "id": "3a0bc90e",
   "metadata": {},
   "outputs": [],
   "source": [
    "obj_col = df_concat.select_dtypes(include=object).columns"
   ]
  },
  {
   "cell_type": "code",
   "execution_count": 10,
   "id": "3ced44ba",
   "metadata": {},
   "outputs": [
    {
     "data": {
      "text/plain": [
       "G/734/S     8\n",
       "G/160/P     8\n",
       "G/109/P     7\n",
       "G/1368/P    7\n",
       "B/201/P     7\n",
       "E/13/S      7\n",
       "C/137/S     7\n",
       "D/273/S     7\n",
       "F/1194/P    7\n",
       "F/1411/P    7\n",
       "B/11/S      7\n",
       "D/176/S     7\n",
       "G/748/S     7\n",
       "E/228/S     7\n",
       "B/82/S      7\n",
       "G/1476/S    7\n",
       "G/981/S     7\n",
       "C/21/P      7\n",
       "B/31/P      7\n",
       "G/737/S     6\n",
       "Name: Cabin, dtype: int64"
      ]
     },
     "execution_count": 10,
     "metadata": {},
     "output_type": "execute_result"
    }
   ],
   "source": [
    "df_concat[\"Cabin\"].value_counts().head(20)"
   ]
  },
  {
   "cell_type": "code",
   "execution_count": 11,
   "id": "85e427c3",
   "metadata": {},
   "outputs": [
    {
     "name": "stderr",
     "output_type": "stream",
     "text": [
      "C:\\Users\\harsh\\Anaconda3\\lib\\site-packages\\seaborn\\_decorators.py:36: FutureWarning: Pass the following variable as a keyword arg: x. From version 0.12, the only valid positional argument will be `data`, and passing other arguments without an explicit keyword will result in an error or misinterpretation.\n",
      "  warnings.warn(\n",
      "C:\\Users\\harsh\\Anaconda3\\lib\\site-packages\\seaborn\\_decorators.py:36: FutureWarning: Pass the following variable as a keyword arg: x. From version 0.12, the only valid positional argument will be `data`, and passing other arguments without an explicit keyword will result in an error or misinterpretation.\n",
      "  warnings.warn(\n",
      "C:\\Users\\harsh\\Anaconda3\\lib\\site-packages\\seaborn\\_decorators.py:36: FutureWarning: Pass the following variable as a keyword arg: x. From version 0.12, the only valid positional argument will be `data`, and passing other arguments without an explicit keyword will result in an error or misinterpretation.\n",
      "  warnings.warn(\n",
      "C:\\Users\\harsh\\Anaconda3\\lib\\site-packages\\seaborn\\_decorators.py:36: FutureWarning: Pass the following variable as a keyword arg: x. From version 0.12, the only valid positional argument will be `data`, and passing other arguments without an explicit keyword will result in an error or misinterpretation.\n",
      "  warnings.warn(\n",
      "C:\\Users\\harsh\\Anaconda3\\lib\\site-packages\\seaborn\\_decorators.py:36: FutureWarning: Pass the following variable as a keyword arg: x. From version 0.12, the only valid positional argument will be `data`, and passing other arguments without an explicit keyword will result in an error or misinterpretation.\n",
      "  warnings.warn(\n"
     ]
    },
    {
     "data": {
      "image/png": "[encoded data removed]",
      "text/plain": [
       "<Figure size 576x576 with 5 Axes>"
      ]
     },
     "metadata": {
      "needs_background": "light"
     },
     "output_type": "display_data"
    }
   ],
   "source": [
    "c=1\n",
    "plt.figure(figsize=(8,8))\n",
    "for x in obj_col:\n",
    "    if x==\"Name\" or x==\"PassengerId\" or x==\"Cabin\":\n",
    "        continue\n",
    "    else:\n",
    "        plt.subplot(3,3,c)\n",
    "        sns.countplot(df_concat[x])\n",
    "        c=c+1\n",
    "plt.tight_layout()"
   ]
  },
  {
   "cell_type": "markdown",
   "id": "58e2fb00",
   "metadata": {},
   "source": [
    "Number of people Transported ~ number of people not transported so we are not dealing with imbalanced classification problem"
   ]
  },
  {
   "cell_type": "markdown",
   "id": "9e79ee45",
   "metadata": {},
   "source": [
    "### Bivariate analysis"
   ]
  },
  {
   "cell_type": "code",
   "execution_count": 12,
   "id": "54a5c8a2",
   "metadata": {},
   "outputs": [
    {
     "data": {
      "text/plain": [
       "<AxesSubplot:>"
      ]
     },
     "execution_count": 12,
     "metadata": {},
     "output_type": "execute_result"
    },
    {
     "data": {
      "image/png": "[encoded data removed]",
      "text/plain": [
       "<Figure size 432x288 with 2 Axes>"
      ]
     },
     "metadata": {
      "needs_background": "light"
     },
     "output_type": "display_data"
    }
   ],
   "source": [
    "sns.heatmap(df_concat.corr(),annot=True,cmap=\"YlGnBu\")"
   ]
  },
  {
   "cell_type": "markdown",
   "id": "3fe7a43f",
   "metadata": {},
   "source": [
    "Index(['PassengerId', 'HomePlanet', 'CryoSleep', 'Cabin', 'Destination', 'Age',\n",
    "       'VIP', 'RoomService', 'FoodCourt', 'ShoppingMall', 'Spa', 'VRDeck',\n",
    "       'Name', 'Transported'],\n",
    "      dtype='object')"
   ]
  },
  {
   "cell_type": "code",
   "execution_count": 13,
   "id": "c5ad0362",
   "metadata": {},
   "outputs": [
    {
     "data": {
      "text/plain": [
       "<AxesSubplot:xlabel='HomePlanet'>"
      ]
     },
     "execution_count": 13,
     "metadata": {},
     "output_type": "execute_result"
    },
    {
     "data": {
      "image/png": "[encoded data removed]",
      "text/plain": [
       "<Figure size 432x288 with 1 Axes>"
      ]
     },
     "metadata": {
      "needs_background": "light"
     },
     "output_type": "display_data"
    }
   ],
   "source": [
    "pd.crosstab(df_concat[\"HomePlanet\"],df_concat[\"Transported\"]).plot(kind=\"bar\")"
   ]
  },
  {
   "cell_type": "markdown",
   "id": "ae5f0ead",
   "metadata": {},
   "source": [
    "Peoples whose home planet was Europa transported more"
   ]
  },
  {
   "cell_type": "code",
   "execution_count": 14,
   "id": "b551ca68",
   "metadata": {},
   "outputs": [
    {
     "data": {
      "text/plain": [
       "<AxesSubplot:xlabel='CryoSleep'>"
      ]
     },
     "execution_count": 14,
     "metadata": {},
     "output_type": "execute_result"
    },
    {
     "data": {
      "image/png": "[encoded data removed]",
      "text/plain": [
       "<Figure size 432x288 with 1 Axes>"
      ]
     },
     "metadata": {
      "needs_background": "light"
     },
     "output_type": "display_data"
    }
   ],
   "source": [
    "pd.crosstab(df_concat[\"CryoSleep\"],df_concat[\"Transported\"]).plot(kind=\"bar\")"
   ]
  },
  {
   "cell_type": "markdown",
   "id": "8effe795",
   "metadata": {},
   "source": [
    "Peoples who were in CryoSleep were Transported"
   ]
  },
  {
   "cell_type": "code",
   "execution_count": 15,
   "id": "8471c5bf",
   "metadata": {},
   "outputs": [
    {
     "data": {
      "text/plain": [
       "<AxesSubplot:xlabel='Destination'>"
      ]
     },
     "execution_count": 15,
     "metadata": {},
     "output_type": "execute_result"
    },
    {
     "data": {
      "image/png": "[encoded data removed]",
      "text/plain": [
       "<Figure size 432x288 with 1 Axes>"
      ]
     },
     "metadata": {
      "needs_background": "light"
     },
     "output_type": "display_data"
    }
   ],
   "source": [
    "pd.crosstab(df_concat[\"Destination\"],df_concat[\"Transported\"]).plot(kind=\"bar\")"
   ]
  },
  {
   "cell_type": "markdown",
   "id": "e212fa6d",
   "metadata": {},
   "source": [
    "Peoples whos destination where Trappist-le were more so they are more likely to transported"
   ]
  },
  {
   "cell_type": "code",
   "execution_count": 16,
   "id": "f5787386",
   "metadata": {},
   "outputs": [
    {
     "data": {
      "text/plain": [
       "<AxesSubplot:xlabel='VIP'>"
      ]
     },
     "execution_count": 16,
     "metadata": {},
     "output_type": "execute_result"
    },
    {
     "data": {
      "image/png": "[encoded data removed]",
      "text/plain": [
       "<Figure size 432x288 with 1 Axes>"
      ]
     },
     "metadata": {
      "needs_background": "light"
     },
     "output_type": "display_data"
    }
   ],
   "source": [
    "pd.crosstab(df_concat[\"VIP\"],df_concat[\"Transported\"]).plot(kind=\"bar\")"
   ]
  },
  {
   "cell_type": "markdown",
   "id": "902d6fa4",
   "metadata": {},
   "source": [
    "Number of ordinary member are more so there chances transportation are more"
   ]
  },
  {
   "cell_type": "code",
   "execution_count": 17,
   "id": "903b8b45",
   "metadata": {
    "scrolled": true
   },
   "outputs": [
    {
     "name": "stdout",
     "output_type": "stream",
     "text": [
      "HomePlanet\n",
      "Earth     25.961995\n",
      "Europa    34.336159\n",
      "Mars      29.457154\n",
      "Name: Age, dtype: float64\n",
      "\n",
      "\n",
      "HomePlanet\n",
      "Earth     23.0\n",
      "Europa    33.0\n",
      "Mars      28.0\n",
      "Name: Age, dtype: float64\n",
      "\n",
      "\n",
      "HomePlanet\n",
      "Earth     0.0\n",
      "Europa    0.0\n",
      "Mars      0.0\n",
      "Name: Age, dtype: float64\n",
      "\n",
      "\n",
      "HomePlanet\n",
      "Earth     79.0\n",
      "Europa    79.0\n",
      "Mars      76.0\n",
      "Name: Age, dtype: float64\n"
     ]
    }
   ],
   "source": [
    "print(df_concat.groupby(\"HomePlanet\")[\"Age\"].mean())\n",
    "print()\n",
    "print()\n",
    "print(df_concat.groupby(\"HomePlanet\")[\"Age\"].median())\n",
    "print()\n",
    "print()\n",
    "print(df_concat.groupby(\"HomePlanet\")[\"Age\"].min())\n",
    "print()\n",
    "print()\n",
    "print(df_concat.groupby(\"HomePlanet\")[\"Age\"].max())"
   ]
  },
  {
   "cell_type": "markdown",
   "id": "2ed2c016",
   "metadata": {},
   "source": [
    "# Dealing with missing values and Feature Engineering"
   ]
  },
  {
   "cell_type": "code",
   "execution_count": 18,
   "id": "1c82d832",
   "metadata": {},
   "outputs": [
    {
     "data": {
      "text/html": [
       "<div>\n",
       "<style scoped>\n",
       "    .dataframe tbody tr th:only-of-type {\n",
       "        vertical-align: middle;\n",
       "    }\n",
       "\n",
       "    .dataframe tbody tr th {\n",
       "        vertical-align: top;\n",
       "    }\n",
       "\n",
       "    .dataframe thead th {\n",
       "        text-align: right;\n",
       "    }\n",
       "</style>\n",
       "<table border=\"1\" class=\"dataframe\">\n",
       "  <thead>\n",
       "    <tr style=\"text-align: right;\">\n",
       "      <th></th>\n",
       "      <th>PassengerId</th>\n",
       "      <th>HomePlanet</th>\n",
       "      <th>CryoSleep</th>\n",
       "      <th>Cabin</th>\n",
       "      <th>Destination</th>\n",
       "      <th>Age</th>\n",
       "      <th>VIP</th>\n",
       "      <th>RoomService</th>\n",
       "      <th>FoodCourt</th>\n",
       "      <th>ShoppingMall</th>\n",
       "      <th>Spa</th>\n",
       "      <th>VRDeck</th>\n",
       "      <th>Name</th>\n",
       "      <th>Transported</th>\n",
       "    </tr>\n",
       "  </thead>\n",
       "  <tbody>\n",
       "    <tr>\n",
       "      <th>0</th>\n",
       "      <td>0001_01</td>\n",
       "      <td>Europa</td>\n",
       "      <td>False</td>\n",
       "      <td>B/0/P</td>\n",
       "      <td>TRAPPIST-1e</td>\n",
       "      <td>39.0</td>\n",
       "      <td>False</td>\n",
       "      <td>0.0</td>\n",
       "      <td>0.0</td>\n",
       "      <td>0.0</td>\n",
       "      <td>0.0</td>\n",
       "      <td>0.0</td>\n",
       "      <td>Maham Ofracculy</td>\n",
       "      <td>False</td>\n",
       "    </tr>\n",
       "    <tr>\n",
       "      <th>1</th>\n",
       "      <td>0002_01</td>\n",
       "      <td>Earth</td>\n",
       "      <td>False</td>\n",
       "      <td>F/0/S</td>\n",
       "      <td>TRAPPIST-1e</td>\n",
       "      <td>24.0</td>\n",
       "      <td>False</td>\n",
       "      <td>109.0</td>\n",
       "      <td>9.0</td>\n",
       "      <td>25.0</td>\n",
       "      <td>549.0</td>\n",
       "      <td>44.0</td>\n",
       "      <td>Juanna Vines</td>\n",
       "      <td>True</td>\n",
       "    </tr>\n",
       "    <tr>\n",
       "      <th>2</th>\n",
       "      <td>0003_01</td>\n",
       "      <td>Europa</td>\n",
       "      <td>False</td>\n",
       "      <td>A/0/S</td>\n",
       "      <td>TRAPPIST-1e</td>\n",
       "      <td>58.0</td>\n",
       "      <td>True</td>\n",
       "      <td>43.0</td>\n",
       "      <td>3576.0</td>\n",
       "      <td>0.0</td>\n",
       "      <td>6715.0</td>\n",
       "      <td>49.0</td>\n",
       "      <td>Altark Susent</td>\n",
       "      <td>False</td>\n",
       "    </tr>\n",
       "    <tr>\n",
       "      <th>3</th>\n",
       "      <td>0003_02</td>\n",
       "      <td>Europa</td>\n",
       "      <td>False</td>\n",
       "      <td>A/0/S</td>\n",
       "      <td>TRAPPIST-1e</td>\n",
       "      <td>33.0</td>\n",
       "      <td>False</td>\n",
       "      <td>0.0</td>\n",
       "      <td>1283.0</td>\n",
       "      <td>371.0</td>\n",
       "      <td>3329.0</td>\n",
       "      <td>193.0</td>\n",
       "      <td>Solam Susent</td>\n",
       "      <td>False</td>\n",
       "    </tr>\n",
       "    <tr>\n",
       "      <th>4</th>\n",
       "      <td>0004_01</td>\n",
       "      <td>Earth</td>\n",
       "      <td>False</td>\n",
       "      <td>F/1/S</td>\n",
       "      <td>TRAPPIST-1e</td>\n",
       "      <td>16.0</td>\n",
       "      <td>False</td>\n",
       "      <td>303.0</td>\n",
       "      <td>70.0</td>\n",
       "      <td>151.0</td>\n",
       "      <td>565.0</td>\n",
       "      <td>2.0</td>\n",
       "      <td>Willy Santantines</td>\n",
       "      <td>True</td>\n",
       "    </tr>\n",
       "  </tbody>\n",
       "</table>\n",
       "</div>"
      ],
      "text/plain": [
       "  PassengerId HomePlanet CryoSleep  Cabin  Destination   Age    VIP  \\\n",
       "0     0001_01     Europa     False  B/0/P  TRAPPIST-1e  39.0  False   \n",
       "1     0002_01      Earth     False  F/0/S  TRAPPIST-1e  24.0  False   \n",
       "2     0003_01     Europa     False  A/0/S  TRAPPIST-1e  58.0   True   \n",
       "3     0003_02     Europa     False  A/0/S  TRAPPIST-1e  33.0  False   \n",
       "4     0004_01      Earth     False  F/1/S  TRAPPIST-1e  16.0  False   \n",
       "\n",
       "   RoomService  FoodCourt  ShoppingMall     Spa  VRDeck               Name  \\\n",
       "0          0.0        0.0           0.0     0.0     0.0    Maham Ofracculy   \n",
       "1        109.0        9.0          25.0   549.0    44.0       Juanna Vines   \n",
       "2         43.0     3576.0           0.0  6715.0    49.0      Altark Susent   \n",
       "3          0.0     1283.0         371.0  3329.0   193.0       Solam Susent   \n",
       "4        303.0       70.0         151.0   565.0     2.0  Willy Santantines   \n",
       "\n",
       "  Transported  \n",
       "0       False  \n",
       "1        True  \n",
       "2       False  \n",
       "3       False  \n",
       "4        True  "
      ]
     },
     "execution_count": 18,
     "metadata": {},
     "output_type": "execute_result"
    }
   ],
   "source": [
    "df_concat.head()"
   ]
  },
  {
   "cell_type": "markdown",
   "id": "2ba1bf26",
   "metadata": {},
   "source": [
    "Extracting some information fom PassengerId"
   ]
  },
  {
   "cell_type": "code",
   "execution_count": 19,
   "id": "a986cdc8",
   "metadata": {},
   "outputs": [],
   "source": [
    "def passengerId(id):\n",
    "    return (id.split(\"_\")[1])\n",
    "df_concat[\"Passenger_id\" ]= df_concat[\"PassengerId\"].apply(passengerId)"
   ]
  },
  {
   "cell_type": "code",
   "execution_count": 20,
   "id": "aac31ffa",
   "metadata": {
    "scrolled": false
   },
   "outputs": [
    {
     "data": {
      "text/plain": [
       "<AxesSubplot:xlabel='Passenger_id'>"
      ]
     },
     "execution_count": 20,
     "metadata": {},
     "output_type": "execute_result"
    },
    {
     "data": {
      "image/png": "[encoded data removed]",
      "text/plain": [
       "<Figure size 432x288 with 1 Axes>"
      ]
     },
     "metadata": {
      "needs_background": "light"
     },
     "output_type": "display_data"
    }
   ],
   "source": [
    "pd.crosstab(df_concat[\"Passenger_id\"],df_concat[\"Transported\"]).plot(kind=\"bar\")"
   ]
  },
  {
   "cell_type": "code",
   "execution_count": 21,
   "id": "2ba3926a",
   "metadata": {},
   "outputs": [],
   "source": [
    "df_concat[\"Passenger_id\"]=df_concat[\"Passenger_id\"].map({\"01\":8,\"02\":7,\"03\":6,\"04\":5,\"05\":4,\"06\":3,\"07\":2,\"08\":1})"
   ]
  },
  {
   "cell_type": "code",
   "execution_count": 22,
   "id": "5b038045",
   "metadata": {},
   "outputs": [
    {
     "data": {
      "text/plain": [
       "dtype('int64')"
      ]
     },
     "execution_count": 22,
     "metadata": {},
     "output_type": "execute_result"
    }
   ],
   "source": [
    "df_concat[\"Passenger_id\"].dtype"
   ]
  },
  {
   "cell_type": "markdown",
   "id": "786c54b1",
   "metadata": {},
   "source": [
    "Filling Nan values with a cabin no which means not alloted"
   ]
  },
  {
   "cell_type": "code",
   "execution_count": 23,
   "id": "95068611",
   "metadata": {},
   "outputs": [],
   "source": [
    "df_concat[\"Cabin\"].fillna(\"1/1/1\",inplace=True)"
   ]
  },
  {
   "cell_type": "markdown",
   "id": "a0b39919",
   "metadata": {},
   "source": [
    "Taking some insieght from cabin"
   ]
  },
  {
   "cell_type": "code",
   "execution_count": 24,
   "id": "91f6cbbe",
   "metadata": {
    "scrolled": true
   },
   "outputs": [],
   "source": [
    "def cabin_no(c):\n",
    "    return (c.split(\"/\")[0])\n",
    "df_concat[\"Cabin_No\" ]= df_concat[\"Cabin\"].apply(cabin_no)"
   ]
  },
  {
   "cell_type": "code",
   "execution_count": 25,
   "id": "90b39681",
   "metadata": {},
   "outputs": [],
   "source": [
    "def cabin_class(c):\n",
    "    return (c.split(\"/\")[2])\n",
    "df_concat[\"Cabin_Class\" ]= df_concat[\"Cabin\"].apply(cabin_class)"
   ]
  },
  {
   "cell_type": "code",
   "execution_count": 26,
   "id": "cc8326e9",
   "metadata": {},
   "outputs": [
    {
     "data": {
      "text/plain": [
       "<AxesSubplot:xlabel='Cabin_No'>"
      ]
     },
     "execution_count": 26,
     "metadata": {},
     "output_type": "execute_result"
    },
    {
     "data": {
      "image/png": "[encoded data removed]",
      "text/plain": [
       "<Figure size 432x288 with 1 Axes>"
      ]
     },
     "metadata": {
      "needs_background": "light"
     },
     "output_type": "display_data"
    }
   ],
   "source": [
    "pd.crosstab(df_concat[\"Cabin_No\"],df_concat[\"Transported\"]).plot(kind=\"bar\")"
   ]
  },
  {
   "cell_type": "code",
   "execution_count": 27,
   "id": "2f9075ec",
   "metadata": {},
   "outputs": [
    {
     "data": {
      "text/plain": [
       "<AxesSubplot:xlabel='Cabin_Class'>"
      ]
     },
     "execution_count": 27,
     "metadata": {},
     "output_type": "execute_result"
    },
    {
     "data": {
      "image/png": "[encoded data removed]",
      "text/plain": [
       "<Figure size 432x288 with 1 Axes>"
      ]
     },
     "metadata": {
      "needs_background": "light"
     },
     "output_type": "display_data"
    }
   ],
   "source": [
    "pd.crosstab(df_concat[\"Cabin_Class\"],df_concat[\"Transported\"]).plot(kind=\"bar\")"
   ]
  },
  {
   "cell_type": "markdown",
   "id": "46746c7b",
   "metadata": {},
   "source": [
    "Filling Nan values of HomePlanet and CyroSleep with mode\n"
   ]
  },
  {
   "cell_type": "code",
   "execution_count": 28,
   "id": "a3ba410a",
   "metadata": {},
   "outputs": [],
   "source": [
    "df_concat[\"HomePlanet\"].fillna(\"Earth\",inplace=True)\n",
    "df_concat[\"CryoSleep\"].fillna(df_concat[\"CryoSleep\"].mode(),inplace=True)"
   ]
  },
  {
   "cell_type": "markdown",
   "id": "a7b6b44f",
   "metadata": {},
   "source": [
    "Handling Nan values of Destination"
   ]
  },
  {
   "cell_type": "code",
   "execution_count": 29,
   "id": "55f9b4ce",
   "metadata": {},
   "outputs": [
    {
     "data": {
      "text/plain": [
       "HomePlanet  Destination  \n",
       "Earth       55 Cancri e      1037\n",
       "            PSO J318.5-22    1088\n",
       "            TRAPPIST-1e      4878\n",
       "Europa      55 Cancri e      1310\n",
       "            PSO J318.5-22      29\n",
       "            TRAPPIST-1e      1737\n",
       "Mars        55 Cancri e       294\n",
       "            PSO J318.5-22      67\n",
       "            TRAPPIST-1e      2256\n",
       "dtype: int64"
      ]
     },
     "execution_count": 29,
     "metadata": {},
     "output_type": "execute_result"
    }
   ],
   "source": [
    "df_concat.groupby([\"HomePlanet\",\"Destination\"]).size()"
   ]
  },
  {
   "cell_type": "code",
   "execution_count": 30,
   "id": "44371183",
   "metadata": {},
   "outputs": [],
   "source": [
    "df_concat[\"Destination\"].fillna(\"TRAPPIST-1e\",inplace=True)"
   ]
  },
  {
   "cell_type": "markdown",
   "id": "1be123c6",
   "metadata": {},
   "source": [
    "Handling Nan values of age with home planet"
   ]
  },
  {
   "cell_type": "code",
   "execution_count": 31,
   "id": "1594934d",
   "metadata": {},
   "outputs": [
    {
     "data": {
      "text/plain": [
       "HomePlanet\n",
       "Earth     23.0\n",
       "Europa    33.0\n",
       "Mars      28.0\n",
       "Name: Age, dtype: float64"
      ]
     },
     "execution_count": 31,
     "metadata": {},
     "output_type": "execute_result"
    }
   ],
   "source": [
    "df_concat.groupby([\"HomePlanet\"])[\"Age\"].median()"
   ]
  },
  {
   "cell_type": "code",
   "execution_count": 32,
   "id": "fd29d30a",
   "metadata": {},
   "outputs": [],
   "source": [
    "df_concat.loc[(df_concat.HomePlanet==\"Earth\") & (df_concat.Age.isnull()) ,\"Age\"]=23.0"
   ]
  },
  {
   "cell_type": "code",
   "execution_count": 33,
   "id": "c658c948",
   "metadata": {},
   "outputs": [],
   "source": [
    "df_concat.loc[(df_concat.HomePlanet==\"Europa\") & (df_concat.Age.isnull()) ,\"Age\"]=33.0\n",
    "df_concat.loc[(df_concat.HomePlanet==\"Mars\") & (df_concat.Age.isnull()) ,\"Age\"]=28.0"
   ]
  },
  {
   "cell_type": "markdown",
   "id": "2fe72d44",
   "metadata": {},
   "source": [
    "Handling nan values in VIP"
   ]
  },
  {
   "cell_type": "code",
   "execution_count": 34,
   "id": "12ef5450",
   "metadata": {},
   "outputs": [],
   "source": [
    "df_concat[\"VIP\"].fillna(df_concat[\"VIP\"].mode(),inplace=True)"
   ]
  },
  {
   "cell_type": "markdown",
   "id": "466fce6a",
   "metadata": {},
   "source": [
    "Hnadling Numerical Nan values"
   ]
  },
  {
   "cell_type": "code",
   "execution_count": 35,
   "id": "8a1ce6fc",
   "metadata": {},
   "outputs": [],
   "source": [
    "num_col=num_col.drop(\"Age\")"
   ]
  },
  {
   "cell_type": "code",
   "execution_count": 36,
   "id": "c80cd121",
   "metadata": {},
   "outputs": [],
   "source": [
    "for x in num_col:\n",
    "    df_concat[x].fillna(0,inplace=True)"
   ]
  },
  {
   "cell_type": "markdown",
   "id": "75de3708",
   "metadata": {},
   "source": [
    "Making all expenses columns into one"
   ]
  },
  {
   "cell_type": "code",
   "execution_count": 37,
   "id": "deea9535",
   "metadata": {},
   "outputs": [],
   "source": [
    "df_concat[\"Expenses\"]  = df_concat[\"RoomService\"]+df_concat[\"FoodCourt\"]+df_concat[\"ShoppingMall\"]+df_concat[\"Spa\"]+df_concat[\"VRDeck\"]"
   ]
  },
  {
   "cell_type": "code",
   "execution_count": 38,
   "id": "ab3fd4c3",
   "metadata": {},
   "outputs": [
    {
     "data": {
      "text/plain": [
       "Index(['PassengerId', 'HomePlanet', 'CryoSleep', 'Cabin', 'Destination', 'Age',\n",
       "       'VIP', 'RoomService', 'FoodCourt', 'ShoppingMall', 'Spa', 'VRDeck',\n",
       "       'Name', 'Transported', 'Passenger_id', 'Cabin_No', 'Cabin_Class',\n",
       "       'Expenses'],\n",
       "      dtype='object')"
      ]
     },
     "execution_count": 38,
     "metadata": {},
     "output_type": "execute_result"
    }
   ],
   "source": [
    "df_concat.columns"
   ]
  },
  {
   "cell_type": "markdown",
   "id": "ec04ad9b",
   "metadata": {},
   "source": [
    "Dropping some unimportant features"
   ]
  },
  {
   "cell_type": "code",
   "execution_count": 39,
   "id": "0c5e444a",
   "metadata": {},
   "outputs": [],
   "source": [
    "df_concat.drop([\"PassengerId\",\"Cabin\",\"Name\"],axis=1,inplace=True)"
   ]
  },
  {
   "cell_type": "code",
   "execution_count": 40,
   "id": "fdfa13a6",
   "metadata": {},
   "outputs": [],
   "source": [
    "df_concat.drop([\"RoomService\",\"FoodCourt\",\"ShoppingMall\",\"Spa\",\"VRDeck\"],axis=1,inplace=True)"
   ]
  },
  {
   "cell_type": "code",
   "execution_count": 41,
   "id": "606a7ef7",
   "metadata": {},
   "outputs": [],
   "source": [
    "df_train_cleaned = df_concat.iloc[0:8693]\n",
    "df_test_cleaned = df_concat.iloc[8693:].drop(\"Transported\",axis=1)"
   ]
  },
  {
   "cell_type": "markdown",
   "id": "56335b96",
   "metadata": {},
   "source": [
    "Feature scaling and Feature Engineering"
   ]
  },
  {
   "cell_type": "code",
   "execution_count": 42,
   "id": "164de595",
   "metadata": {},
   "outputs": [
    {
     "name": "stderr",
     "output_type": "stream",
     "text": [
      "C:\\Users\\harsh\\AppData\\Local\\Temp\\ipykernel_5204\\1475082844.py:4: SettingWithCopyWarning: \n",
      "A value is trying to be set on a copy of a slice from a DataFrame.\n",
      "Try using .loc[row_indexer,col_indexer] = value instead\n",
      "\n",
      "See the caveats in the documentation: https://pandas.pydata.org/pandas-docs/stable/user_guide/indexing.html#returning-a-view-versus-a-copy\n",
      "  df_train_cleaned[\"Age\"] = scaler.transform(df_train_cleaned[[\"Age\"]])\n"
     ]
    }
   ],
   "source": [
    "from sklearn.preprocessing import StandardScaler\n",
    "scaler = StandardScaler()\n",
    "scaler.fit(df_train_cleaned[[\"Age\"]])\n",
    "df_train_cleaned[\"Age\"] = scaler.transform(df_train_cleaned[[\"Age\"]])\n",
    "df_test_cleaned[\"Age\"] = scaler.transform(df_test_cleaned[[\"Age\"]])"
   ]
  },
  {
   "cell_type": "code",
   "execution_count": 43,
   "id": "6e5df20f",
   "metadata": {},
   "outputs": [
    {
     "name": "stderr",
     "output_type": "stream",
     "text": [
      "C:\\Users\\harsh\\AppData\\Local\\Temp\\ipykernel_5204\\33787004.py:3: SettingWithCopyWarning: \n",
      "A value is trying to be set on a copy of a slice from a DataFrame.\n",
      "Try using .loc[row_indexer,col_indexer] = value instead\n",
      "\n",
      "See the caveats in the documentation: https://pandas.pydata.org/pandas-docs/stable/user_guide/indexing.html#returning-a-view-versus-a-copy\n",
      "  df_train_cleaned[\"Expenses\"] = scaler1.transform(df_train_cleaned[[\"Expenses\"]])\n"
     ]
    }
   ],
   "source": [
    "scaler1 = StandardScaler()\n",
    "scaler1.fit(df_train_cleaned[[\"Expenses\"]])\n",
    "df_train_cleaned[\"Expenses\"] = scaler1.transform(df_train_cleaned[[\"Expenses\"]])\n",
    "df_test_cleaned[\"Expenses\"] = scaler1.transform(df_test_cleaned[[\"Expenses\"]])"
   ]
  },
  {
   "cell_type": "code",
   "execution_count": 44,
   "id": "e9b15316",
   "metadata": {
    "scrolled": true
   },
   "outputs": [
    {
     "name": "stderr",
     "output_type": "stream",
     "text": [
      "C:\\Users\\harsh\\AppData\\Local\\Temp\\ipykernel_5204\\3958354030.py:4: SettingWithCopyWarning: \n",
      "A value is trying to be set on a copy of a slice from a DataFrame.\n",
      "Try using .loc[row_indexer,col_indexer] = value instead\n",
      "\n",
      "See the caveats in the documentation: https://pandas.pydata.org/pandas-docs/stable/user_guide/indexing.html#returning-a-view-versus-a-copy\n",
      "  df_train_cleaned[\"Transported\"] = le.transform(df_train_cleaned[\"Transported\"])\n"
     ]
    }
   ],
   "source": [
    "from sklearn.preprocessing import LabelEncoder\n",
    "le = LabelEncoder()\n",
    "le.fit(df_train_cleaned[\"Transported\"])\n",
    "df_train_cleaned[\"Transported\"] = le.transform(df_train_cleaned[\"Transported\"])\n"
   ]
  },
  {
   "cell_type": "code",
   "execution_count": 45,
   "id": "ab1eb9d0",
   "metadata": {},
   "outputs": [
    {
     "name": "stderr",
     "output_type": "stream",
     "text": [
      "C:\\Users\\harsh\\AppData\\Local\\Temp\\ipykernel_5204\\1688551029.py:1: SettingWithCopyWarning: \n",
      "A value is trying to be set on a copy of a slice from a DataFrame.\n",
      "Try using .loc[row_indexer,col_indexer] = value instead\n",
      "\n",
      "See the caveats in the documentation: https://pandas.pydata.org/pandas-docs/stable/user_guide/indexing.html#returning-a-view-versus-a-copy\n",
      "  df_train_cleaned[\"Destination\"] = df_train_cleaned[\"Destination\"].map({'TRAPPIST-1e':3,'55 Cancri e':2,'PSO J318.5-22':1})\n"
     ]
    }
   ],
   "source": [
    "df_train_cleaned[\"Destination\"] = df_train_cleaned[\"Destination\"].map({'TRAPPIST-1e':3,'55 Cancri e':2,'PSO J318.5-22':1})\n",
    "df_test_cleaned[\"Destination\"] = df_test_cleaned[\"Destination\"].map({'TRAPPIST-1e':3,'55 Cancri e':2,'PSO J318.5-22':1})"
   ]
  },
  {
   "cell_type": "code",
   "execution_count": 46,
   "id": "4a3cb148",
   "metadata": {},
   "outputs": [],
   "source": [
    "df_train_transformed = pd.get_dummies(df_train_cleaned,drop_first=True)\n",
    "df_test_transformed = pd.get_dummies(df_test_cleaned,drop_first=True)"
   ]
  },
  {
   "cell_type": "markdown",
   "id": "4704c847",
   "metadata": {},
   "source": [
    "# Model Selection"
   ]
  },
  {
   "cell_type": "markdown",
   "id": "3082c5d4",
   "metadata": {},
   "source": [
    "Random Forest Classifier"
   ]
  },
  {
   "cell_type": "code",
   "execution_count": 47,
   "id": "f42210c9",
   "metadata": {},
   "outputs": [
    {
     "data": {
      "text/plain": [
       "RandomForestClassifier()"
      ]
     },
     "execution_count": 47,
     "metadata": {},
     "output_type": "execute_result"
    }
   ],
   "source": [
    "from sklearn.ensemble import RandomForestClassifier\n",
    "rfc = RandomForestClassifier()\n",
    "rfc.fit(df_train_transformed.drop(\"Transported\",axis=1),df_train_transformed[\"Transported\"])\n"
   ]
  },
  {
   "cell_type": "code",
   "execution_count": 48,
   "id": "564d19f2",
   "metadata": {},
   "outputs": [],
   "source": [
    "pred_y = rfc.predict(df_test_transformed)"
   ]
  },
  {
   "cell_type": "code",
   "execution_count": 49,
   "id": "c2cc838b",
   "metadata": {},
   "outputs": [],
   "source": [
    "pred_y=le.inverse_transform(pred_y)"
   ]
  },
  {
   "cell_type": "code",
   "execution_count": 50,
   "id": "b4053d33",
   "metadata": {},
   "outputs": [],
   "source": [
    "df_submission = df_test[\"PassengerId\"]"
   ]
  },
  {
   "cell_type": "code",
   "execution_count": 51,
   "id": "a5c44e38",
   "metadata": {},
   "outputs": [],
   "source": [
    "df_submission=pd.concat([df_submission,pd.DataFrame(pred_y)],axis=1)\n"
   ]
  },
  {
   "cell_type": "code",
   "execution_count": 52,
   "id": "3938477a",
   "metadata": {},
   "outputs": [],
   "source": [
    "df_submission.columns=[\"PassengerId\",\"Transported\"]"
   ]
  },
  {
   "cell_type": "code",
   "execution_count": 53,
   "id": "10225446",
   "metadata": {},
   "outputs": [],
   "source": [
    "df_submission.to_csv(\"Rf.csv\",index=False)"
   ]
  },
  {
   "cell_type": "code",
   "execution_count": 54,
   "id": "574f9096",
   "metadata": {},
   "outputs": [],
   "source": [
    "# Test acuuracy was .6815 \n",
    "# after handling id and changing it to integer test accuracy become .72"
   ]
  },
  {
   "cell_type": "markdown",
   "id": "02fa883a",
   "metadata": {},
   "source": [
    "XGB Classifier"
   ]
  },
  {
   "cell_type": "code",
   "execution_count": 55,
   "id": "1e359b8f",
   "metadata": {},
   "outputs": [],
   "source": [
    "from xgboost import XGBClassifier\n",
    "xgb = XGBClassifier()\n",
    "xgb.fit(df_train_transformed.drop(\"Transported\",axis=1),df_train_transformed[\"Transported\"])\n",
    "pred_y_xgb = xgb.predict(df_test_transformed)\n",
    "pred_y_xgb=le.inverse_transform(pred_y_xgb)"
   ]
  },
  {
   "cell_type": "code",
   "execution_count": 56,
   "id": "a261fcaf",
   "metadata": {},
   "outputs": [],
   "source": [
    "df_submission = df_test[\"PassengerId\"]\n",
    "df_submission=pd.concat([df_submission,pd.DataFrame(pred_y_xgb)],axis=1)\n",
    "df_submission.columns=[\"PassengerId\",\"Transported\"]\n",
    "df_submission.to_csv(\"xgb.csv\",index=False)"
   ]
  },
  {
   "cell_type": "code",
   "execution_count": 57,
   "id": "c5909f33",
   "metadata": {},
   "outputs": [],
   "source": [
    "# Test acuuracy was .6930 and rank 2155\n",
    "# after handling id and changing it to integer test accuracy become .74187 and rank 1972"
   ]
  },
  {
   "cell_type": "markdown",
   "id": "61082aa7",
   "metadata": {},
   "source": [
    "GradientBoosting Classifier"
   ]
  },
  {
   "cell_type": "code",
   "execution_count": 58,
   "id": "e226ec16",
   "metadata": {},
   "outputs": [],
   "source": [
    "from sklearn.ensemble import GradientBoostingClassifier\n",
    "gbc = GradientBoostingClassifier()\n",
    "gbc.fit(df_train_transformed.drop(\"Transported\",axis=1),df_train_transformed[\"Transported\"])\n",
    "pred_y_gbc = gbc.predict(df_test_transformed)\n",
    "pred_y_gbc = le.inverse_transform(pred_y_gbc)"
   ]
  },
  {
   "cell_type": "code",
   "execution_count": 59,
   "id": "a689ab49",
   "metadata": {},
   "outputs": [],
   "source": [
    "df_submission = df_test[\"PassengerId\"]\n",
    "df_submission=pd.concat([df_submission,pd.DataFrame(pred_y_xgb)],axis=1)\n",
    "df_submission.columns=[\"PassengerId\",\"Transported\"]\n",
    "df_submission.to_csv(\"gbc.csv\",index=False)"
   ]
  },
  {
   "cell_type": "code",
   "execution_count": 60,
   "id": "6031250b",
   "metadata": {},
   "outputs": [],
   "source": [
    "# Test acuuracy was .6930 and rank 2155 same as xgbc\n",
    "# after handling id and changing it to integer test accuracy become .74187 and rank 1972\n"
   ]
  },
  {
   "cell_type": "code",
   "execution_count": 61,
   "id": "b517a10d",
   "metadata": {},
   "outputs": [],
   "source": [
    "#GBC and XGBC have same score"
   ]
  },
  {
   "cell_type": "markdown",
   "id": "08f7640a",
   "metadata": {},
   "source": [
    "Light GBM"
   ]
  },
  {
   "cell_type": "code",
   "execution_count": 62,
   "id": "e3195d42",
   "metadata": {},
   "outputs": [],
   "source": [
    "import lightgbm as lgb"
   ]
  },
  {
   "cell_type": "code",
   "execution_count": 63,
   "id": "ce030682",
   "metadata": {},
   "outputs": [],
   "source": [
    "clg = lgb.LGBMClassifier()\n",
    "clg.fit(df_train_transformed.drop(\"Transported\",axis=1),df_train_transformed[\"Transported\"])\n",
    "pred_y_lgb = clg.predict((df_test_transformed))\n",
    "pred_y_lgb = le.inverse_transform(pred_y_lgb)"
   ]
  },
  {
   "cell_type": "code",
   "execution_count": 64,
   "id": "ab83d09a",
   "metadata": {},
   "outputs": [],
   "source": [
    "df_submission = df_test[\"PassengerId\"]\n",
    "df_submission=pd.concat([df_submission,pd.DataFrame(pred_y_lgb)],axis=1)\n",
    "df_submission.columns=[\"PassengerId\",\"Transported\"]\n",
    "df_submission.to_csv(\"lgbm.csv\",index=False)"
   ]
  },
  {
   "cell_type": "code",
   "execution_count": 65,
   "id": "46504687",
   "metadata": {},
   "outputs": [],
   "source": [
    "# Test acuuracy was .75286 and rank 1899 better than rf and xgb"
   ]
  },
  {
   "cell_type": "markdown",
   "id": "7db3a8ad",
   "metadata": {},
   "source": [
    "## HyperParameter Tunning Light GBM"
   ]
  },
  {
   "cell_type": "code",
   "execution_count": 66,
   "id": "31da45b3",
   "metadata": {},
   "outputs": [],
   "source": [
    "params = {'learning_rate': [0.2,0.4,0.5,0.6,0.8,0.9,1],'boosting_type':['gbdt', 'dart', 'goss'],'num_leaves':[20,40,50,70,100,130,150,170,200],'max_depth':[5,15,25,40,50,70,100,150,175,200]}"
   ]
  },
  {
   "cell_type": "code",
   "execution_count": 67,
   "id": "f6113a46",
   "metadata": {},
   "outputs": [],
   "source": [
    "from sklearn.model_selection import GridSearchCV\n",
    "clf =lgb.LGBMClassifier()"
   ]
  },
  {
   "cell_type": "code",
   "execution_count": 68,
   "id": "24f74b9f",
   "metadata": {},
   "outputs": [],
   "source": [
    "grid_search = GridSearchCV(clf,param_grid=params,scoring=\"accuracy\",cv=5,verbose=1)"
   ]
  },
  {
   "cell_type": "code",
   "execution_count": 69,
   "id": "1685a639",
   "metadata": {},
   "outputs": [],
   "source": [
    "from sklearn.model_selection import train_test_split\n",
    "X_train,X_test,Y_train,Y_test = train_test_split(df_train_transformed.drop(\"Transported\",axis=1),df_train_transformed[\"Transported\"],test_size=0.2,random_state=21)"
   ]
  },
  {
   "cell_type": "code",
   "execution_count": 70,
   "id": "943946a2",
   "metadata": {},
   "outputs": [
    {
     "name": "stdout",
     "output_type": "stream",
     "text": [
      "Fitting 5 folds for each of 1890 candidates, totalling 9450 fits\n"
     ]
    },
    {
     "data": {
      "text/plain": [
       "GridSearchCV(cv=5, estimator=LGBMClassifier(),\n",
       "             param_grid={'boosting_type': ['gbdt', 'dart', 'goss'],\n",
       "                         'learning_rate': [0.2, 0.4, 0.5, 0.6, 0.8, 0.9, 1],\n",
       "                         'max_depth': [5, 15, 25, 40, 50, 70, 100, 150, 175,\n",
       "                                       200],\n",
       "                         'num_leaves': [20, 40, 50, 70, 100, 130, 150, 170,\n",
       "                                        200]},\n",
       "             scoring='accuracy', verbose=1)"
      ]
     },
     "execution_count": 70,
     "metadata": {},
     "output_type": "execute_result"
    }
   ],
   "source": [
    "grid_search.fit(X_train,Y_train)"
   ]
  },
  {
   "cell_type": "code",
   "execution_count": 71,
   "id": "52929f07",
   "metadata": {},
   "outputs": [
    {
     "name": "stdout",
     "output_type": "stream",
     "text": [
      "{'boosting_type': 'dart', 'learning_rate': 0.2, 'max_depth': 5, 'num_leaves': 20}\n"
     ]
    }
   ],
   "source": [
    "from sklearn.metrics import classification_report\n",
    "print(grid_search.best_params_)\n"
   ]
  },
  {
   "cell_type": "code",
   "execution_count": 72,
   "id": "a7c7fd10",
   "metadata": {},
   "outputs": [
    {
     "name": "stdout",
     "output_type": "stream",
     "text": [
      "              precision    recall  f1-score   support\n",
      "\n",
      "           0       0.71      0.85      0.77       860\n",
      "           1       0.81      0.66      0.73       879\n",
      "\n",
      "    accuracy                           0.75      1739\n",
      "   macro avg       0.76      0.75      0.75      1739\n",
      "weighted avg       0.76      0.75      0.75      1739\n",
      "\n"
     ]
    }
   ],
   "source": [
    "grid_pred=grid_search.predict(X_test)\n",
    "print(classification_report(Y_test,grid_pred))"
   ]
  },
  {
   "cell_type": "code",
   "execution_count": 73,
   "id": "c63dfe3a",
   "metadata": {},
   "outputs": [],
   "source": [
    "light_gbm = lgb.LGBMClassifier(boosting_type='dart', learning_rate= 0.2, max_depth= 5, num_leaves= 20)"
   ]
  },
  {
   "cell_type": "code",
   "execution_count": 74,
   "id": "74013d55",
   "metadata": {},
   "outputs": [],
   "source": [
    "light_gbm.fit(df_train_transformed.drop(\"Transported\",axis=1),df_train_transformed[\"Transported\"])\n",
    "pred_y_lgbmT = light_gbm.predict(df_test_transformed)\n"
   ]
  },
  {
   "cell_type": "code",
   "execution_count": 75,
   "id": "706291da",
   "metadata": {},
   "outputs": [],
   "source": [
    "pred_y_lgbmT = le.inverse_transform(pred_y_lgbmT)\n",
    "df_submission = df_test[\"PassengerId\"]\n",
    "df_submission=pd.concat([df_submission,pd.DataFrame(pred_y_lgbmT)],axis=1)\n",
    "df_submission.columns=[\"PassengerId\",\"Transported\"]\n",
    "df_submission.to_csv(\"lgbmT.csv\",index=False)"
   ]
  },
  {
   "cell_type": "code",
   "execution_count": 76,
   "id": "9ac839f8",
   "metadata": {},
   "outputs": [],
   "source": [
    "# Accuracy score 0.75683 global rank 1882"
   ]
  },
  {
   "cell_type": "markdown",
   "id": "68340b73",
   "metadata": {},
   "source": [
    "## HyperParameter Tunning XGBC"
   ]
  },
  {
   "cell_type": "markdown",
   "id": "e2949b45",
   "metadata": {},
   "source": [
    "xgbc = XGBClassifier()\n",
    "params = {\"n_estimators\":[50,100,200,500,1000,2000],\"eta\":[0.05,0.1,0.5,0.8],\"colsample_bytree\":[0.5],\"learning_rate\":[0.1,0.2,0.5,0.8],\"max_depth\":[3,5,8,10]}"
   ]
  },
  {
   "cell_type": "markdown",
   "id": "952625af",
   "metadata": {},
   "source": [
    "grid = GridSearchCV(xgbc,params,scoring=\"accuracy\",cv=5,verbose=1)"
   ]
  },
  {
   "cell_type": "markdown",
   "id": "0b35ac7a",
   "metadata": {},
   "source": [
    "grid.fit(X_train,Y_train)"
   ]
  },
  {
   "cell_type": "markdown",
   "id": "a0cf7d2f",
   "metadata": {},
   "source": [
    "print(grid.best_params_)\n"
   ]
  },
  {
   "cell_type": "markdown",
   "id": "1bbb6921",
   "metadata": {},
   "source": [
    "grid_pred_xgbc=grid_search.predict(X_test)\n",
    "print(classification_report(Y_test,grid_pred_xgbc))"
   ]
  },
  {
   "cell_type": "markdown",
   "id": "b6f2af2d",
   "metadata": {},
   "source": [
    "#same precision,recall,f1-score as light gbm \n",
    "# no extra information was found\n",
    "#going with light Gbm"
   ]
  },
  {
   "cell_type": "code",
   "execution_count": null,
   "id": "315fac61",
   "metadata": {},
   "outputs": [],
   "source": []
  }
 ],
 "metadata": {
  "kernelspec": {
   "display_name": "Python 3 (ipykernel)",
   "language": "python",
   "name": "python3"
  },
  "language_info": {
   "codemirror_mode": {
    "name": "ipython",
    "version": 3
   },
   "file_extension": ".py",
   "mimetype": "text/x-python",
   "name": "python",
   "nbconvert_exporter": "python",
   "pygments_lexer": "ipython3",
   "version": "3.8.5"
  }
 },
 "nbformat": 4,
 "nbformat_minor": 5
}
